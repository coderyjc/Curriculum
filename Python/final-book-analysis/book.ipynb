{
 "cells": [
  {
   "cell_type": "markdown",
   "metadata": {},
   "source": [
    "### 数据统计与分析"
   ]
  },
  {
   "cell_type": "code",
   "execution_count": 1,
   "metadata": {},
   "outputs": [],
   "source": [
    "import re \n",
    "import numpy as np\n",
    "import pandas as pd\n",
    "import jieba \n",
    "\n",
    "from wordcloud import WordCloud"
   ]
  },
  {
   "cell_type": "code",
   "execution_count": 2,
   "metadata": {},
   "outputs": [],
   "source": [
    "file_path = './data.csv'\n",
    "data = pd.read_csv(file_path)"
   ]
  },
  {
   "cell_type": "markdown",
   "metadata": {},
   "source": [
    "> 标题的词云"
   ]
  },
  {
   "cell_type": "code",
   "execution_count": 3,
   "metadata": {},
   "outputs": [],
   "source": [
    "TITLE_FILE_NAME = './temp/titles.txt'\n",
    "\n",
    "fp_title = open(TITLE_FILE_NAME, 'w+' , encoding='utf-8')\n",
    "titles = data['标题']\n",
    "for title in titles:\n",
    "  fp_title.write(title[title.find('（'):] if title.find('（') != -1 else ' ')\n",
    "\n",
    "# 把标题写入文件\n",
    "fp_title.close()\n",
    "\n",
    "# 修正标题\n",
    "data['标题'] = data['标题'].apply(lambda x: x[:x.find('（')] if x.find('（') != -1 else x)"
   ]
  },
  {
   "cell_type": "code",
   "execution_count": 4,
   "metadata": {},
   "outputs": [
    {
     "name": "stderr",
     "output_type": "stream",
     "text": [
      "Building prefix dict from the default dictionary ...\n",
      "Loading model from cache C:\\Users\\ADMINI~1\\AppData\\Local\\Temp\\jieba.cache\n",
      "Loading model cost 1.216 seconds.\n",
      "Prefix dict has been built successfully.\n"
     ]
    },
    {
     "data": {
      "text/plain": [
       "<wordcloud.wordcloud.WordCloud at 0x145e6cb9ca0>"
      ]
     },
     "execution_count": 4,
     "metadata": {},
     "output_type": "execute_result"
    }
   ],
   "source": [
    "# 注意到获取的页面内容中有html的标签和其他符号存在，不利于下一步的词云操作，所以需要利用jieba和正则表达式对得到的文本进行清洗\n",
    "r ='[，。\\%、；1234567890n-】【“”]《》（）'\n",
    "\n",
    "file=open(TITLE_FILE_NAME, \"r\", encoding='utf-8').read()\n",
    "\n",
    "# 剔除无关信息\n",
    "file =re.sub(r,'',file)\n",
    "# 删除中文无关词汇\n",
    "chinese_char = '[的版]'\n",
    "file = re.sub(chinese_char,'',file)\n",
    "\n",
    "#分词\n",
    "con = jieba.lcut(file)\n",
    "\n",
    "#分词后插入空格\n",
    "words = \" \".join(con)\n",
    "\n",
    "#词云分析\n",
    "wordcloud = WordCloud(font_path=\"./assets/1570766042.ttf\",background_color=\"white\",width=1300, height=800).generate(words)\n",
    "\n",
    "wordcloud.to_file('./assets/title_cloud.png') "
   ]
  },
  {
   "cell_type": "markdown",
   "metadata": {},
   "source": [
    "<!-- ![](./assets/title_cloud.png) -->\n",
    "\n",
    "从词云图中可以看出消费者更加倾向于购买标题中含有“全册”、“推荐”、“代表作”等词的书籍\n"
   ]
  },
  {
   "cell_type": "markdown",
   "metadata": {},
   "source": [
    "> 评论数量"
   ]
  },
  {
   "cell_type": "code",
   "execution_count": 14,
   "metadata": {},
   "outputs": [
    {
     "data": {
      "text/html": [
       "<div>\n",
       "<style scoped>\n",
       "    .dataframe tbody tr th:only-of-type {\n",
       "        vertical-align: middle;\n",
       "    }\n",
       "\n",
       "    .dataframe tbody tr th {\n",
       "        vertical-align: top;\n",
       "    }\n",
       "\n",
       "    .dataframe thead th {\n",
       "        text-align: right;\n",
       "    }\n",
       "</style>\n",
       "<table border=\"1\" class=\"dataframe\">\n",
       "  <thead>\n",
       "    <tr style=\"text-align: right;\">\n",
       "      <th></th>\n",
       "      <th>排名</th>\n",
       "      <th>标题</th>\n",
       "      <th>评论数量</th>\n",
       "      <th>推荐率</th>\n",
       "      <th>出版社</th>\n",
       "      <th>作者</th>\n",
       "      <th>出版时间</th>\n",
       "      <th>价格</th>\n",
       "      <th>类别1</th>\n",
       "      <th>类别2</th>\n",
       "    </tr>\n",
       "  </thead>\n",
       "  <tbody>\n",
       "    <tr>\n",
       "      <th>18</th>\n",
       "      <td>19</td>\n",
       "      <td>东野圭吾：解忧杂货店</td>\n",
       "      <td>2466104</td>\n",
       "      <td>99.70%</td>\n",
       "      <td>南海出版公司</td>\n",
       "      <td>（日）东野圭吾  著， 新经典  出品</td>\n",
       "      <td>2020</td>\n",
       "      <td>5</td>\n",
       "      <td>图书</td>\n",
       "      <td>小说</td>\n",
       "    </tr>\n",
       "    <tr>\n",
       "      <th>127</th>\n",
       "      <td>128</td>\n",
       "      <td>人间失格</td>\n",
       "      <td>2196134</td>\n",
       "      <td>99.80%</td>\n",
       "      <td>作家出版社</td>\n",
       "      <td>（日）太宰治　著，杨伟　译</td>\n",
       "      <td>2015</td>\n",
       "      <td>1</td>\n",
       "      <td>小说</td>\n",
       "      <td>社会小说</td>\n",
       "    </tr>\n",
       "    <tr>\n",
       "      <th>7</th>\n",
       "      <td>8</td>\n",
       "      <td>马尔克斯：百年孤独</td>\n",
       "      <td>2061178</td>\n",
       "      <td>99.80%</td>\n",
       "      <td>南海出版公司</td>\n",
       "      <td>加西亚·马尔克斯 著，新经典 出品</td>\n",
       "      <td>2017</td>\n",
       "      <td>3</td>\n",
       "      <td>小说</td>\n",
       "      <td>世界名著</td>\n",
       "    </tr>\n",
       "    <tr>\n",
       "      <th>26</th>\n",
       "      <td>27</td>\n",
       "      <td>东野圭吾：白夜行</td>\n",
       "      <td>1936755</td>\n",
       "      <td>99.90%</td>\n",
       "      <td>南海出版公司</td>\n",
       "      <td>[日]东野圭吾 著，新经典 出品</td>\n",
       "      <td>2017</td>\n",
       "      <td>5</td>\n",
       "      <td>小说</td>\n",
       "      <td>社会小说</td>\n",
       "    </tr>\n",
       "    <tr>\n",
       "      <th>40</th>\n",
       "      <td>41</td>\n",
       "      <td>正面管教(修订版)</td>\n",
       "      <td>1920551</td>\n",
       "      <td>100%</td>\n",
       "      <td>北京联合出版公司</td>\n",
       "      <td>[美] 简·尼尔森</td>\n",
       "      <td>2016</td>\n",
       "      <td>3</td>\n",
       "      <td>亲子/家教</td>\n",
       "      <td>家教方法</td>\n",
       "    </tr>\n",
       "    <tr>\n",
       "      <th>8</th>\n",
       "      <td>9</td>\n",
       "      <td>三体：全三册 刘慈欣代表作，亚洲“雨果奖”获奖作品！</td>\n",
       "      <td>1789154</td>\n",
       "      <td>99.80%</td>\n",
       "      <td>重庆出版社</td>\n",
       "      <td>刘慈欣</td>\n",
       "      <td>2010</td>\n",
       "      <td>5</td>\n",
       "      <td>小说</td>\n",
       "      <td>科幻小说图书</td>\n",
       "    </tr>\n",
       "    <tr>\n",
       "      <th>64</th>\n",
       "      <td>65</td>\n",
       "      <td>神奇校车·图画书版</td>\n",
       "      <td>1677734</td>\n",
       "      <td>99.90%</td>\n",
       "      <td>贵州人民出版社</td>\n",
       "      <td>(美)乔安娜柯尔 著 ,(美)布鲁斯·迪根 图</td>\n",
       "      <td>2018</td>\n",
       "      <td>10</td>\n",
       "      <td>童书</td>\n",
       "      <td>科普/百科</td>\n",
       "    </tr>\n",
       "    <tr>\n",
       "      <th>91</th>\n",
       "      <td>92</td>\n",
       "      <td>窗边的小豆豆(2018版)</td>\n",
       "      <td>1537547</td>\n",
       "      <td>99.90%</td>\n",
       "      <td>南海出版公司</td>\n",
       "      <td>（日）黑柳彻子， 爱心树童书  出品</td>\n",
       "      <td>2018</td>\n",
       "      <td>2</td>\n",
       "      <td>童书</td>\n",
       "      <td>外国儿童文学</td>\n",
       "    </tr>\n",
       "    <tr>\n",
       "      <th>162</th>\n",
       "      <td>163</td>\n",
       "      <td>我们仨</td>\n",
       "      <td>1533940</td>\n",
       "      <td>99.80%</td>\n",
       "      <td>生活.读书.新知三联书店</td>\n",
       "      <td>杨绛</td>\n",
       "      <td>2018</td>\n",
       "      <td>2</td>\n",
       "      <td>传记</td>\n",
       "      <td>文学家</td>\n",
       "    </tr>\n",
       "    <tr>\n",
       "      <th>24</th>\n",
       "      <td>25</td>\n",
       "      <td>小熊和最好的爸爸</td>\n",
       "      <td>1497197</td>\n",
       "      <td>99.60%</td>\n",
       "      <td>贵州人民出版社</td>\n",
       "      <td>（荷）阿兰德·丹姆  著，（荷）亚历克斯·沃尔夫  绘，漆仰平，爱桐  译</td>\n",
       "      <td>2007</td>\n",
       "      <td>3</td>\n",
       "      <td>童书</td>\n",
       "      <td>绘本/图画书</td>\n",
       "    </tr>\n",
       "  </tbody>\n",
       "</table>\n",
       "</div>"
      ],
      "text/plain": [
       "      排名                          标题     评论数量     推荐率           出版社  \\\n",
       "18    19                  东野圭吾：解忧杂货店  2466104  99.70%        南海出版公司   \n",
       "127  128                        人间失格  2196134  99.80%         作家出版社   \n",
       "7      8                   马尔克斯：百年孤独  2061178  99.80%        南海出版公司   \n",
       "26    27                    东野圭吾：白夜行  1936755  99.90%        南海出版公司   \n",
       "40    41                   正面管教(修订版)  1920551    100%      北京联合出版公司   \n",
       "8      9  三体：全三册 刘慈欣代表作，亚洲“雨果奖”获奖作品！  1789154  99.80%         重庆出版社   \n",
       "64    65                   神奇校车·图画书版  1677734  99.90%       贵州人民出版社   \n",
       "91    92               窗边的小豆豆(2018版)  1537547  99.90%        南海出版公司   \n",
       "162  163                         我们仨  1533940  99.80%  生活.读书.新知三联书店   \n",
       "24    25                    小熊和最好的爸爸  1497197  99.60%       贵州人民出版社   \n",
       "\n",
       "                                        作者  出版时间  价格    类别1     类别2  \n",
       "18                     （日）东野圭吾  著， 新经典  出品  2020   5     图书      小说  \n",
       "127                          （日）太宰治　著，杨伟　译  2015   1     小说    社会小说  \n",
       "7                        加西亚·马尔克斯 著，新经典 出品  2017   3     小说    世界名著  \n",
       "26                        [日]东野圭吾 著，新经典 出品  2017   5     小说    社会小说  \n",
       "40                               [美] 简·尼尔森  2016   3  亲子/家教    家教方法  \n",
       "8                                      刘慈欣  2010   5     小说  科幻小说图书  \n",
       "64                 (美)乔安娜柯尔 著 ,(美)布鲁斯·迪根 图  2018  10     童书   科普/百科  \n",
       "91                      （日）黑柳彻子， 爱心树童书  出品  2018   2     童书  外国儿童文学  \n",
       "162                                     杨绛  2018   2     传记     文学家  \n",
       "24   （荷）阿兰德·丹姆  著，（荷）亚历克斯·沃尔夫  绘，漆仰平，爱桐  译  2007   3     童书  绘本/图画书  "
      ]
     },
     "execution_count": 14,
     "metadata": {},
     "output_type": "execute_result"
    }
   ],
   "source": [
    "# 排序后的DataFrame\n",
    "data_sort_by_comment = data.sort_values('评论数量', ascending=False)\n",
    "\n",
    "# 评论数量最多的 top10、30\n",
    "# data_sort_by_comment.head(10)\n",
    "# data_sort_by_comment.head(30)"
   ]
  },
  {
   "cell_type": "markdown",
   "metadata": {},
   "source": [
    "> top10出版社以及上榜的书籍"
   ]
  },
  {
   "cell_type": "code",
   "execution_count": 6,
   "metadata": {},
   "outputs": [
    {
     "data": {
      "text/html": [
       "<div>\n",
       "<style scoped>\n",
       "    .dataframe tbody tr th:only-of-type {\n",
       "        vertical-align: middle;\n",
       "    }\n",
       "\n",
       "    .dataframe tbody tr th {\n",
       "        vertical-align: top;\n",
       "    }\n",
       "\n",
       "    .dataframe thead th {\n",
       "        text-align: right;\n",
       "    }\n",
       "</style>\n",
       "<table border=\"1\" class=\"dataframe\">\n",
       "  <thead>\n",
       "    <tr style=\"text-align: right;\">\n",
       "      <th></th>\n",
       "      <th>排名</th>\n",
       "      <th>标题</th>\n",
       "      <th>评论数量</th>\n",
       "      <th>推荐率</th>\n",
       "      <th>出版社</th>\n",
       "      <th>作者</th>\n",
       "      <th>出版时间</th>\n",
       "      <th>价格</th>\n",
       "      <th>类别1</th>\n",
       "      <th>类别2</th>\n",
       "    </tr>\n",
       "  </thead>\n",
       "  <tbody>\n",
       "    <tr>\n",
       "      <th>0</th>\n",
       "      <td>1</td>\n",
       "      <td>人生海海</td>\n",
       "      <td>894784</td>\n",
       "      <td>100%</td>\n",
       "      <td>北京十月文艺出版社</td>\n",
       "      <td>麦家  著 ，新经典  出品</td>\n",
       "      <td>2019/4/16</td>\n",
       "      <td>¥55.00</td>\n",
       "      <td>小说</td>\n",
       "      <td>中国当代小说</td>\n",
       "    </tr>\n",
       "    <tr>\n",
       "      <th>1</th>\n",
       "      <td>2</td>\n",
       "      <td>大话中国艺术史</td>\n",
       "      <td>41862</td>\n",
       "      <td>99.90%</td>\n",
       "      <td>海南出版社</td>\n",
       "      <td>意公子；读客文化 出品</td>\n",
       "      <td>2022/3/1</td>\n",
       "      <td>¥112.10</td>\n",
       "      <td>艺术</td>\n",
       "      <td>世界各国艺术概况</td>\n",
       "    </tr>\n",
       "    <tr>\n",
       "      <th>2</th>\n",
       "      <td>3</td>\n",
       "      <td>生死疲劳</td>\n",
       "      <td>209949</td>\n",
       "      <td>100%</td>\n",
       "      <td>浙江文艺出版社</td>\n",
       "      <td>莫言；读客文化 出品</td>\n",
       "      <td>2022/1/1</td>\n",
       "      <td>¥66.40</td>\n",
       "      <td>小说</td>\n",
       "      <td>中国当代小说</td>\n",
       "    </tr>\n",
       "    <tr>\n",
       "      <th>3</th>\n",
       "      <td>4</td>\n",
       "      <td>蛤蟆先生去看心理医生</td>\n",
       "      <td>1077140</td>\n",
       "      <td>100%</td>\n",
       "      <td>天津人民出版社</td>\n",
       "      <td>罗伯特·戴博德，果麦文化 出品</td>\n",
       "      <td>2020/7/1</td>\n",
       "      <td>¥28.50</td>\n",
       "      <td>心理学</td>\n",
       "      <td>心灵疗愈</td>\n",
       "    </tr>\n",
       "    <tr>\n",
       "      <th>4</th>\n",
       "      <td>5</td>\n",
       "      <td>被讨厌的勇气：“自我启发之父”阿德勒的哲学课 岸见一郎</td>\n",
       "      <td>603965</td>\n",
       "      <td>100%</td>\n",
       "      <td>机械工业出版社</td>\n",
       "      <td>岸見一郎, 古賀史健</td>\n",
       "      <td>2020/3/5</td>\n",
       "      <td>¥30.00</td>\n",
       "      <td>成功/励志</td>\n",
       "      <td>心灵与修养</td>\n",
       "    </tr>\n",
       "  </tbody>\n",
       "</table>\n",
       "</div>"
      ],
      "text/plain": [
       "   排名                           标题     评论数量     推荐率        出版社  \\\n",
       "0   1                         人生海海   894784    100%  北京十月文艺出版社   \n",
       "1   2                      大话中国艺术史    41862  99.90%      海南出版社   \n",
       "2   3                         生死疲劳   209949    100%    浙江文艺出版社   \n",
       "3   4                   蛤蟆先生去看心理医生  1077140    100%    天津人民出版社   \n",
       "4   5  被讨厌的勇气：“自我启发之父”阿德勒的哲学课 岸见一郎   603965    100%    机械工业出版社   \n",
       "\n",
       "                作者       出版时间       价格    类别1       类别2  \n",
       "0   麦家  著 ，新经典  出品  2019/4/16   ¥55.00     小说    中国当代小说  \n",
       "1      意公子；读客文化 出品   2022/3/1  ¥112.10     艺术  世界各国艺术概况  \n",
       "2       莫言；读客文化 出品   2022/1/1   ¥66.40     小说    中国当代小说  \n",
       "3  罗伯特·戴博德，果麦文化 出品   2020/7/1   ¥28.50    心理学      心灵疗愈  \n",
       "4       岸見一郎, 古賀史健   2020/3/5   ¥30.00  成功/励志     心灵与修养  "
      ]
     },
     "execution_count": 6,
     "metadata": {},
     "output_type": "execute_result"
    }
   ],
   "source": [
    "data.head(5)"
   ]
  },
  {
   "cell_type": "code",
   "execution_count": 7,
   "metadata": {},
   "outputs": [],
   "source": [
    "data_groupby_publisher = data.groupby(['出版社'])\n",
    "\n",
    "# 将 DataFrameGroupBy 转换为 array 类型\n",
    "# 然后再每一个group（出版社）中添加这个出版社一共出版的图书\n",
    "# 然后把这个array按照出版图书的降序排序\n",
    "\n",
    "publisher_with_rank = np.array([np.insert(i, 0, i[1].shape[0]) for i in np.array([list(i) for i in list(data_groupby_publisher)], dtype=object)])\n",
    "publisher_with_rank = publisher_with_rank[publisher_with_rank[:,0].argsort()][::-1]\n",
    "\n",
    "# 所有出版社按照上榜图书排序和他们的图书\n",
    "# publisher_with_rank"
   ]
  },
  {
   "cell_type": "markdown",
   "metadata": {},
   "source": [
    "> 一类图书类别统计"
   ]
  },
  {
   "cell_type": "code",
   "execution_count": 8,
   "metadata": {},
   "outputs": [],
   "source": [
    "data_groupby_type_1 = data.groupby(['类别1'])\n",
    "type_1_book_group = np.array([np.insert(i, 0, i[1].shape[0]) for i in np.array([list(i) for i in list(data_groupby_type_1)], dtype=object)])\n",
    "type_1_book_group = type_1_book_group[type_1_book_group[:,0].argsort()][::-1]\n",
    "\n",
    "# 所有1级分类和分类下面的图书\n",
    "# type_1_book_group"
   ]
  },
  {
   "cell_type": "markdown",
   "metadata": {},
   "source": [
    "> 二类图书类别统计"
   ]
  },
  {
   "cell_type": "code",
   "execution_count": 9,
   "metadata": {},
   "outputs": [],
   "source": [
    "data_groupby_type_2 = data.groupby(['类别2'])\n",
    "\n",
    "type_2_book_group = np.array([np.insert(i, 0, i[1].shape[0]) for i in np.array([list(i) for i in list(data_groupby_type_2)], dtype=object)])\n",
    "type_2_book_group = type_2_book_group[type_2_book_group[:,0].argsort()][::-1]\n",
    "\n",
    "# 所有2级分类和分类下面的图书\n",
    "# type_2_book_group"
   ]
  },
  {
   "cell_type": "markdown",
   "metadata": {},
   "source": [
    "> 热销图书的定价区间，大家最喜欢什么样的价位的图书"
   ]
  },
  {
   "cell_type": "code",
   "execution_count": 10,
   "metadata": {},
   "outputs": [],
   "source": [
    "# 价格区间以10为step\n",
    "data_modify_price = data\n",
    "data_modify_price = data_modify_price['价格'].apply(lambda x: int(float(x[1:]) / 10))\n",
    "data_with_price_df = data\n",
    "# 把价格修正为价格区间\n",
    "data_with_price_df['价格'] = data_modify_price"
   ]
  },
  {
   "cell_type": "code",
   "execution_count": 11,
   "metadata": {},
   "outputs": [],
   "source": [
    "# 按照价格分组\n",
    "data_groupby_price = data_with_price_df.groupby(['价格'])\n",
    "price_book_group = np.array([np.insert(i, 0, i[1].shape[0]) for i in np.array([list(i) for i in list(data_groupby_price)], dtype=object)])\n",
    "price_book_group = price_book_group[price_book_group[:,0].argsort()][::-1]\n",
    "\n",
    "# 所有的价格区间和区间内的图书数量和内容\n",
    "# price_book_group"
   ]
  },
  {
   "cell_type": "markdown",
   "metadata": {},
   "source": [
    "> 出版年份和时间排序，大家最喜欢什么时候出版的书"
   ]
  },
  {
   "cell_type": "code",
   "execution_count": 12,
   "metadata": {},
   "outputs": [],
   "source": [
    "# 年份以年排序\n",
    "data_modify_date = data\n",
    "data_modify_date = data_modify_date['出版时间'].apply(lambda x: x[:4])\n",
    "data_with_date_df = data\n",
    "# 把价格修正为价格区间\n",
    "data_with_date_df['出版时间'] = data_modify_date"
   ]
  },
  {
   "cell_type": "code",
   "execution_count": 13,
   "metadata": {},
   "outputs": [],
   "source": [
    "# 按照价格分组\n",
    "data_groupby_date = data_with_date_df.groupby(['出版时间'])\n",
    "date_book_group = np.array([np.insert(i, 0, i[1].shape[0]) for i in np.array([list(i) for i in list(data_groupby_date)], dtype=object)])\n",
    "date_book_group = date_book_group[date_book_group[:,0].argsort()][::-1]\n",
    "\n",
    "# 所有的价格区间和区间内的图书数量和内容\n",
    "# date_book_group"
   ]
  },
  {
   "cell_type": "markdown",
   "metadata": {},
   "source": [
    "### 数据可视化"
   ]
  },
  {
   "cell_type": "code",
   "execution_count": null,
   "metadata": {},
   "outputs": [],
   "source": [
    "\n",
    "\n",
    "\n"
   ]
  }
 ],
 "metadata": {
  "interpreter": {
   "hash": "344437c0be3283926a8297f965ec43df1c136f942b85e9e735910d59a6983e30"
  },
  "kernelspec": {
   "display_name": "Python 3.9.7 ('base')",
   "language": "python",
   "name": "python3"
  },
  "language_info": {
   "codemirror_mode": {
    "name": "ipython",
    "version": 3
   },
   "file_extension": ".py",
   "mimetype": "text/x-python",
   "name": "python",
   "nbconvert_exporter": "python",
   "pygments_lexer": "ipython3",
   "version": "3.9.7"
  },
  "orig_nbformat": 4
 },
 "nbformat": 4,
 "nbformat_minor": 2
}
