{
 "cells": [
  {
   "cell_type": "code",
   "execution_count": 1,
   "metadata": {},
   "outputs": [],
   "source": [
    "import re \n",
    "import numpy as np\n",
    "import pandas as pd"
   ]
  },
  {
   "cell_type": "code",
   "execution_count": 2,
   "metadata": {},
   "outputs": [],
   "source": [
    "file_path = './ranking-new.csv'\n",
    "data = pd.read_csv(file_path)"
   ]
  },
  {
   "cell_type": "code",
   "execution_count": 5,
   "metadata": {},
   "outputs": [
    {
     "data": {
      "text/html": [
       "<div>\n",
       "<style scoped>\n",
       "    .dataframe tbody tr th:only-of-type {\n",
       "        vertical-align: middle;\n",
       "    }\n",
       "\n",
       "    .dataframe tbody tr th {\n",
       "        vertical-align: top;\n",
       "    }\n",
       "\n",
       "    .dataframe thead th {\n",
       "        text-align: right;\n",
       "    }\n",
       "</style>\n",
       "<table border=\"1\" class=\"dataframe\">\n",
       "  <thead>\n",
       "    <tr style=\"text-align: right;\">\n",
       "      <th></th>\n",
       "      <th>排名</th>\n",
       "      <th>标题</th>\n",
       "      <th>评论数量</th>\n",
       "      <th>推荐率</th>\n",
       "      <th>出版社</th>\n",
       "      <th>作者</th>\n",
       "      <th>出版时间</th>\n",
       "      <th>价格</th>\n",
       "    </tr>\n",
       "  </thead>\n",
       "  <tbody>\n",
       "    <tr>\n",
       "      <th>0</th>\n",
       "      <td>1</td>\n",
       "      <td>人生海海（麦家重磅力作，莫言、董卿盛赞，连续两年高居畅销榜，...</td>\n",
       "      <td>894784</td>\n",
       "      <td>100%</td>\n",
       "      <td>北京十月文艺出版社</td>\n",
       "      <td>麦家  著 ，新经典  出品</td>\n",
       "      <td>2019/4/16</td>\n",
       "      <td>¥55.00</td>\n",
       "    </tr>\n",
       "    <tr>\n",
       "      <th>1</th>\n",
       "      <td>2</td>\n",
       "      <td>大话中国艺术史（句句有梗，一口气读完10000年中国艺术史。艺术头...</td>\n",
       "      <td>41862</td>\n",
       "      <td>99.90%</td>\n",
       "      <td>海南出版社</td>\n",
       "      <td>意公子；读客文化 出品</td>\n",
       "      <td>2022/3/1</td>\n",
       "      <td>¥112.10</td>\n",
       "    </tr>\n",
       "    <tr>\n",
       "      <th>2</th>\n",
       "      <td>3</td>\n",
       "      <td>生死疲劳（不看不知道，莫言真幽默！全新版本！印章版和普通版随...</td>\n",
       "      <td>209949</td>\n",
       "      <td>100%</td>\n",
       "      <td>浙江文艺出版社</td>\n",
       "      <td>莫言；读客文化 出品</td>\n",
       "      <td>2022/1/1</td>\n",
       "      <td>¥66.40</td>\n",
       "    </tr>\n",
       "    <tr>\n",
       "      <th>3</th>\n",
       "      <td>4</td>\n",
       "      <td>蛤蟆先生去看心理医生（年销200万册！英国经典心理咨询入门书，知...</td>\n",
       "      <td>1077140</td>\n",
       "      <td>100%</td>\n",
       "      <td>天津人民出版社</td>\n",
       "      <td>罗伯特·戴博德，果麦文化 出品</td>\n",
       "      <td>2020/7/1</td>\n",
       "      <td>¥28.50</td>\n",
       "    </tr>\n",
       "    <tr>\n",
       "      <th>4</th>\n",
       "      <td>5</td>\n",
       "      <td>被讨厌的勇气：“自我启发之父”阿德勒的哲学课 岸见一郎</td>\n",
       "      <td>603965</td>\n",
       "      <td>100%</td>\n",
       "      <td>机械工业出版社</td>\n",
       "      <td>岸見一郎, 古賀史健</td>\n",
       "      <td>2020/3/5</td>\n",
       "      <td>¥30.00</td>\n",
       "    </tr>\n",
       "  </tbody>\n",
       "</table>\n",
       "</div>"
      ],
      "text/plain": [
       "   排名                                    标题     评论数量     推荐率        出版社  \\\n",
       "0   1     人生海海（麦家重磅力作，莫言、董卿盛赞，连续两年高居畅销榜，...   894784    100%  北京十月文艺出版社   \n",
       "1   2  大话中国艺术史（句句有梗，一口气读完10000年中国艺术史。艺术头...    41862  99.90%      海南出版社   \n",
       "2   3     生死疲劳（不看不知道，莫言真幽默！全新版本！印章版和普通版随...   209949    100%    浙江文艺出版社   \n",
       "3   4   蛤蟆先生去看心理医生（年销200万册！英国经典心理咨询入门书，知...  1077140    100%    天津人民出版社   \n",
       "4   5           被讨厌的勇气：“自我启发之父”阿德勒的哲学课 岸见一郎   603965    100%    机械工业出版社   \n",
       "\n",
       "                作者       出版时间       价格  \n",
       "0   麦家  著 ，新经典  出品  2019/4/16   ¥55.00  \n",
       "1      意公子；读客文化 出品   2022/3/1  ¥112.10  \n",
       "2       莫言；读客文化 出品   2022/1/1   ¥66.40  \n",
       "3  罗伯特·戴博德，果麦文化 出品   2020/7/1   ¥28.50  \n",
       "4       岸見一郎, 古賀史健   2020/3/5   ¥30.00  "
      ]
     },
     "execution_count": 5,
     "metadata": {},
     "output_type": "execute_result"
    }
   ],
   "source": [
    "data.head(5)"
   ]
  },
  {
   "cell_type": "markdown",
   "metadata": {},
   "source": [
    "> 标题的词云"
   ]
  },
  {
   "cell_type": "code",
   "execution_count": 3,
   "metadata": {},
   "outputs": [],
   "source": [
    "import jieba \n",
    "from wordcloud import WordCloud"
   ]
  },
  {
   "cell_type": "code",
   "execution_count": 13,
   "metadata": {},
   "outputs": [
    {
     "data": {
      "text/plain": [
       "0                             人生海海\n",
       "1                          大话中国艺术史\n",
       "2                             生死疲劳\n",
       "3                       蛤蟆先生去看心理医生\n",
       "4      被讨厌的勇气：“自我启发之父”阿德勒的哲学课 岸见一郎\n",
       "                  ...             \n",
       "495                        银河帝国：基地\n",
       "496                  宫西达也“你肯定能行”绘本\n",
       "497              天星童书·全球精选绘本：我的小影子\n",
       "498                    哈利波特20周年纪念版\n",
       "499                      森林100层的房子\n",
       "Name: 标题, Length: 500, dtype: object"
      ]
     },
     "execution_count": 13,
     "metadata": {},
     "output_type": "execute_result"
    }
   ],
   "source": [
    "TITLE_FILE_NAME = './titles.txt'\n",
    "\n",
    "fp_title = open(TITLE_FILE_NAME, 'w+' , encoding='utf-8')\n",
    "titles = data['标题']\n",
    "for title in titles:\n",
    "  fp_title.write(title[title.find('（'):] if title.find('（') != -1 else ' ')\n",
    "\n",
    "# 把标题写入文件\n",
    "fp_title.close()\n",
    "\n",
    "# 修正标题\n",
    "data['标题'].apply(lambda x: x[:x.find('（')] if x.find('（') != -1 else x)"
   ]
  },
  {
   "cell_type": "code",
   "execution_count": 5,
   "metadata": {},
   "outputs": [
    {
     "name": "stderr",
     "output_type": "stream",
     "text": [
      "Building prefix dict from the default dictionary ...\n",
      "Loading model from cache C:\\Users\\ADMINI~1\\AppData\\Local\\Temp\\jieba.cache\n",
      "Loading model cost 1.035 seconds.\n",
      "Prefix dict has been built successfully.\n"
     ]
    },
    {
     "data": {
      "text/plain": [
       "<wordcloud.wordcloud.WordCloud at 0x222bf3f2e20>"
      ]
     },
     "execution_count": 5,
     "metadata": {},
     "output_type": "execute_result"
    }
   ],
   "source": [
    "\n",
    "#注意到获取的页面内容中有html的标签和其他符号存在，不利于下一步的词云操作，所以需要利用jieba和正则表达式对得到的文本进行清洗\n",
    "r ='[，。\\%、；1234567890n-】【“”]《》（）'\n",
    "\n",
    "file=open(TITLE_FILE_NAME, \"r\", encoding='utf-8').read()\n",
    "\n",
    "# 剔除无关信息\n",
    "file =re.sub(r,'',file)      \n",
    "# 删除中文无关词汇\n",
    "chinese_char = '[的版]'\n",
    "file = re.sub(chinese_char,'',file)\n",
    "\n",
    "#分词\n",
    "con = jieba.lcut(file)     \n",
    "\n",
    "#分词后插入空格\n",
    "words = \" \".join(con)\n",
    "\n",
    "#词云分析\n",
    "wordcloud = WordCloud(font_path=\"./assets/1570766042.ttf\",background_color=\"white\",width=1300, height=800).generate(words)\n",
    "\n",
    "wordcloud.to_file('title_cloud.png') "
   ]
  },
  {
   "cell_type": "markdown",
   "metadata": {},
   "source": [
    "\n",
    "\n",
    "从词云图中可以看出消费者更加倾向于购买标题中含有“全册”、“推荐”、“代表作”等词的书籍\n"
   ]
  },
  {
   "cell_type": "markdown",
   "metadata": {},
   "source": [
    "> 评论数量"
   ]
  },
  {
   "cell_type": "code",
   "execution_count": 7,
   "metadata": {},
   "outputs": [],
   "source": [
    "# 排序后的DataFrame\n",
    "data_sort_by_comment = data.sort_values('评论数量', ascending=False)\n",
    "\n",
    "# 评论数量最多的 top10、30\n",
    "# data_sort_by_comment.head(10)\n",
    "# data_sort_by_comment.head(30)"
   ]
  },
  {
   "cell_type": "markdown",
   "metadata": {},
   "source": [
    "> top10出版社以及上榜的书籍"
   ]
  },
  {
   "cell_type": "code",
   "execution_count": 95,
   "metadata": {},
   "outputs": [],
   "source": [
    "data_groupby_publisher = data.groupby(['出版社'])\n",
    "\n",
    "# 将 DataFrameGroupBy 转换为 array 类型\n",
    "# publisher_with_rank = np.array([list(i) for i in list(data_groupby_publisher)], dtype=object)\n",
    "\n",
    "# 将 DataFrameGroupBy 转换为 array 类型\n",
    "# 然后再每一个group（出版社）中添加这个出版社一共出版的图书\n",
    "# 然后把这个array按照出版图书的降序排序\n",
    "publisher_with_rank = np.array([np.insert(i, 0, i[1].shape[0]) for i in np.array([list(i) for i in list(data_groupby_publisher)], dtype=object)])\n",
    "publisher_with_rank = publisher_with_rank[publisher_with_rank[:,0].argsort()][::-1]\n",
    "\n",
    "# 所有出版社按照上榜图书排序和他们的图书\n",
    "# publisher_with_rank"
   ]
  },
  {
   "cell_type": "markdown",
   "metadata": {},
   "source": [
    "> 出版图书的定价，大家最喜欢什么样的价位的图书"
   ]
  },
  {
   "cell_type": "code",
   "execution_count": null,
   "metadata": {},
   "outputs": [],
   "source": []
  },
  {
   "cell_type": "markdown",
   "metadata": {},
   "source": [
    "> 出版年份和时间排序，大家最喜欢什么时候出版的书"
   ]
  },
  {
   "cell_type": "code",
   "execution_count": null,
   "metadata": {},
   "outputs": [],
   "source": []
  }
 ],
 "metadata": {
  "interpreter": {
   "hash": "344437c0be3283926a8297f965ec43df1c136f942b85e9e735910d59a6983e30"
  },
  "kernelspec": {
   "display_name": "Python 3.9.7 ('base')",
   "language": "python",
   "name": "python3"
  },
  "language_info": {
   "codemirror_mode": {
    "name": "ipython",
    "version": 3
   },
   "file_extension": ".py",
   "mimetype": "text/x-python",
   "name": "python",
   "nbconvert_exporter": "python",
   "pygments_lexer": "ipython3",
   "version": "3.9.7"
  },
  "orig_nbformat": 4
 },
 "nbformat": 4,
 "nbformat_minor": 2
}
